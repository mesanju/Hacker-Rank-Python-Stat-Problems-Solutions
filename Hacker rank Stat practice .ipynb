{
 "cells": [
  {
   "cell_type": "markdown",
   "metadata": {},
   "source": [
    "# Mean Median Mode"
   ]
  },
  {
   "cell_type": "code",
   "execution_count": 48,
   "metadata": {},
   "outputs": [
    {
     "name": "stdout",
     "output_type": "stream",
     "text": [
      "12\n",
      "1 2 1 2 3\n",
      "1.8\n",
      "2.0\n",
      "1\n"
     ]
    }
   ],
   "source": [
    "\n",
    "n = int(input())\n",
    "y = list(map(int, input().split()))\n",
    "\n",
    "from scipy.stats import mode\n",
    "import statistics as st\n",
    "\n",
    "\n",
    "def sum_stat(N, xi):\n",
    "    \n",
    "    #constraint 1\n",
    "    if N<=10 or N>2500: \n",
    "        return None\n",
    "    \n",
    "    #constraint 2\n",
    "    for i in xi:\n",
    "        if i<0 or i>=10**5:\n",
    "            return None\n",
    "    \n",
    "    avg = float(st.mean(xi))\n",
    "    med = float(st.median(xi))\n",
    "    mod = mode(xi)\n",
    "    m , c = mode(xi)\n",
    "    print(round(avg,1))\n",
    "    print(round(med,1))\n",
    "    \n",
    "    print(int(mod[0]))\n",
    "    \n",
    "\n",
    "sum_stat(n,y)"
   ]
  },
  {
   "cell_type": "markdown",
   "metadata": {},
   "source": [
    "# Quartile "
   ]
  },
  {
   "cell_type": "code",
   "execution_count": 11,
   "metadata": {},
   "outputs": [
    {
     "name": "stdout",
     "output_type": "stream",
     "text": [
      "6\n",
      "1 2 3 4 5 6\n",
      "2.25\n",
      "3.5\n",
      "4.75\n"
     ]
    }
   ],
   "source": [
    "import numpy as np\n",
    "\n",
    "N = int(input())\n",
    "y = np.array(list(map(int, input().split())))\n",
    "#print (y)\n",
    "\n",
    "#import statistics as st\n",
    "\n",
    "\n",
    "def qrt(n, X):\n",
    "    if n < 5 or n > 50:\n",
    "        return None\n",
    "    for xi in X:\n",
    "        if xi <= 0 or xi >100:\n",
    "            return None\n",
    "    Q1 = np.percentile(X, 25)\n",
    "    Q2 = np.percentile(X, 50)\n",
    "    Q3 = np.percentile(X, 75)\n",
    "    print(Q1)\n",
    "    print(Q2)\n",
    "    print(Q3)\n",
    "\n",
    "qrt(N, y)"
   ]
  },
  {
   "cell_type": "code",
   "execution_count": 14,
   "metadata": {},
   "outputs": [
    {
     "name": "stdout",
     "output_type": "stream",
     "text": [
      "[1, 2, 3, 4, 5]\n",
      "[1 2 3 4 5]\n",
      "1\n",
      "2\n",
      "3\n",
      "4\n",
      "5\n",
      "1\n",
      "2\n",
      "3\n",
      "4\n",
      "5\n"
     ]
    }
   ],
   "source": [
    "x = [1, 2, 3, 4, 5]\n",
    "print(x)\n",
    "import numpy as np\n",
    "y = np.array(x)\n",
    "print(y)\n",
    "for i in x:\n",
    "    print (i)\n",
    "for j in y:\n",
    "    print (j)\n"
   ]
  },
  {
   "cell_type": "markdown",
   "metadata": {},
   "source": [
    "# Weighted mean "
   ]
  },
  {
   "cell_type": "code",
   "execution_count": 2,
   "metadata": {},
   "outputs": [
    {
     "name": "stdout",
     "output_type": "stream",
     "text": [
      "5\n",
      "2 3 4 5 6\n",
      "20 40 50 60 70\n",
      "4.5\n"
     ]
    }
   ],
   "source": [
    "\n",
    "N = int(input())\n",
    "#print(f\"please input {N} numbers seperated by space\")\n",
    "X = list(map(int, input().split()))\n",
    "W = list(map(int, input().split()))\n",
    "#print (y)\n",
    "\n",
    "def weighted_mean(a,b,c): # a= N, b=X, c=W\n",
    "    if a<5 or a>50:\n",
    "        return None\n",
    "    if min(b) < 0 or max(b) > 100:\n",
    "        return None\n",
    "    if min(c) < 0 or max(c) > 100:\n",
    "        return None\n",
    "        \n",
    "    weighted_sum = 0 # multiple of elements of a * b and total sum \n",
    "    w_sum = sum(c)\n",
    "    \n",
    "    for i in range(a): \n",
    "        weighted_sum += b[i]*c[i]\n",
    "        \n",
    "    print(round(weighted_sum/w_sum, 1))\n",
    "\n",
    "weighted_mean(N,X,W)\n",
    "        \n",
    "    "
   ]
  },
  {
   "cell_type": "markdown",
   "metadata": {},
   "source": [
    "# standard deviation\n"
   ]
  },
  {
   "cell_type": "code",
   "execution_count": 17,
   "metadata": {},
   "outputs": [
    {
     "name": "stdout",
     "output_type": "stream",
     "text": [
      "5\n",
      "10 40 30 50 20\n",
      "14.1\n"
     ]
    }
   ],
   "source": [
    "import math\n",
    "\n",
    "N = int(input())\n",
    "X = list(map(int,input().split()))\n",
    "\n",
    "def std_dev(a,b): # a= N, b = X\n",
    "    if a < 5 or a >100:\n",
    "        return None\n",
    "    if min(b)<0 or max(b)>100000:\n",
    "        return None\n",
    "    x_mean = sum(b)/a\n",
    "    x_std = 0\n",
    "    for i in b:\n",
    "        sq_dev_mean = (i - x_mean)**2\n",
    "        x_std += sq_dev_mean\n",
    "        #print(i,x_mean,sq_dev_mean,x_std)\n",
    "    st_dev = math.sqrt(x_std/a)\n",
    "    print(round(st_dev, 1))\n",
    "std_dev(N,X)"
   ]
  },
  {
   "cell_type": "markdown",
   "metadata": {},
   "source": [
    "sqrt(200)"
   ]
  },
  {
   "cell_type": "code",
   "execution_count": 9,
   "metadata": {},
   "outputs": [
    {
     "name": "stdout",
     "output_type": "stream",
     "text": [
      "5\n",
      "3 9 5 7 1\n",
      "5\n",
      "[3, 9, 5, 7, 1]\n",
      "[3 9 5 7 1]\n",
      "3\n",
      "5\n",
      "7\n"
     ]
    }
   ],
   "source": [
    "# Quartile. X = n number of array elements space seperated. N = number of elements in array X. print Q1,Q2,Q3\n",
    "\n",
    "import numpy as np\n",
    "N = int(input())\n",
    "X = list(map(int,input().split()))\n",
    "xa = np.array(X)\n",
    "\n",
    "print(N)\n",
    "print(X)\n",
    "print(xa)\n",
    "\n",
    "def qrt(num,arr):\n",
    "    if num < 5 or num > 50:\n",
    "        return None\n",
    "    for i in arr:\n",
    "        if i <= 0 or i > 100:\n",
    "            return None\n",
    "\n",
    "    Q1 = np.percentile(arr, 25)\n",
    "    Q2 = np.percentile(arr, 50)\n",
    "    Q3 = np.percentile(arr, 75)\n",
    "\n",
    "    print(int(Q1))\n",
    "    print(int(Q2))\n",
    "    print(int(Q3))\n",
    "    \n",
    "qrt(N, xa)\n"
   ]
  },
  {
   "cell_type": "code",
   "execution_count": 12,
   "metadata": {},
   "outputs": [
    {
     "name": "stdout",
     "output_type": "stream",
     "text": [
      "5\n",
      "9 2 8 1 6\n",
      "1\n",
      "6\n",
      "8\n"
     ]
    }
   ],
   "source": [
    "# soln without using numpy\n",
    "\n",
    "import statistics as st\n",
    "\n",
    "N = int(input())\n",
    "X = list(map(int,input().split()))\n",
    "X.sort()\n",
    "\n",
    "\n",
    "\n",
    "\n",
    "def qrt(num,arr):\n",
    "    med = st.median(arr)\n",
    "    if num < 5 or num > 50:\n",
    "        return None\n",
    "    for i in arr:\n",
    "        if i <= 0 or i > 100:\n",
    "            return None\n",
    "    \n",
    "    first = []\n",
    "    second = []\n",
    "\n",
    "    for i in arr:\n",
    "        if i < med:\n",
    "            first.append(i)\n",
    "        if i > med:\n",
    "            second.append(i)\n",
    "    Q1 = int(st.median(first))\n",
    "    Q2 = int(med)\n",
    "    Q3 = int(st.median(second))\n",
    "    print(Q1)\n",
    "    print(Q2)\n",
    "    print(Q3)\n",
    "qrt(N,X)\n",
    "\n",
    "\n",
    "\n",
    "\n",
    "\n",
    "\n",
    "\n"
   ]
  },
  {
   "cell_type": "code",
   "execution_count": null,
   "metadata": {},
   "outputs": [],
   "source": []
  },
  {
   "cell_type": "code",
   "execution_count": null,
   "metadata": {},
   "outputs": [],
   "source": []
  }
 ],
 "metadata": {
  "kernelspec": {
   "display_name": "Python 3",
   "language": "python",
   "name": "python3"
  },
  "language_info": {
   "codemirror_mode": {
    "name": "ipython",
    "version": 3
   },
   "file_extension": ".py",
   "mimetype": "text/x-python",
   "name": "python",
   "nbconvert_exporter": "python",
   "pygments_lexer": "ipython3",
   "version": "3.7.3"
  }
 },
 "nbformat": 4,
 "nbformat_minor": 2
}
